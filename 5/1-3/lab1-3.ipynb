{
 "cells": [
  {
   "cell_type": "markdown",
   "metadata": {
    "slideshow": {
     "slide_type": "slide"
    }
   },
   "source": [
    "## Лабораторная работа №1.3\n",
    "# Эффект Рамзауэра - рассеяние медленных электронов на атомах\n",
    "\n",
    "#### Выполнили студенты 676(б) группы _Агафонов Артем_ и _Самохин Валентин_\n",
    "#### Под руководством _Почернина И.Г._"
   ]
  },
  {
   "cell_type": "markdown",
   "metadata": {
    "slideshow": {
     "slide_type": "slide"
    }
   },
   "source": [
    "### Теоретическое введение"
   ]
  },
  {
   "cell_type": "markdown",
   "metadata": {
    "slideshow": {
     "slide_type": "subslide"
    }
   },
   "source": [
    "Эффективное сечение реакции --- это величина, характеризующая вероятность перехода системы двух сталкивающихся частиц в результате их рассеяния (упругого или неупругого) в определенное конечное состояние. Сечение $\\sigma$ это отношение числа таких переходов $N$ в единицу времени к плотности потока $nv$ рассеиваемых частиц, падающих на мишень, т.е. к числу частиц, попадающих в единицу времени на единичную площадку, перпендикулярную к их скорости.\n",
    "$$\t\n",
    "\t\\begin{equation}\n",
    "\t\t\\sigma = \\frac{N}{nv}\n",
    "\t\\end{equation}\n",
    "$$"
   ]
  },
  {
   "cell_type": "markdown",
   "metadata": {
    "slideshow": {
     "slide_type": "subslide"
    }
   },
   "source": [
    "###### Схема установки для измерения сечения рассеяния электронов в газах\n",
    "![alt text](2.png \"Схема установки для измерения сечения рассеяния электронов в газах\")\n"
   ]
  },
  {
   "cell_type": "markdown",
   "metadata": {
    "slideshow": {
     "slide_type": "subslide"
    }
   },
   "source": [
    "Эффект Рамзауэра нельзя объяснить с позиций классической теории. С квантовой же точки зрения картина рассеяния выглядит следующим образом. Внутри атома потенциальная энергия налетающего электрона отлична от нуля, скорость электрона меняется, становясь равной $v'$ в соответствии с законом сохранения энергии:\n",
    "$$\t\n",
    "    \\begin{equation}\n",
    "\t\tE = \\frac{mv^2}{2} = \\frac{mv'^2}{2} + U\n",
    "\t\\end{equation}\n",
    "$$\t\n",
    "а значит, изменяется и длина его волны де Бройля. Таким образом, по отношению к электронной волне атом ведет себя как преломляющая среда с относительным показателем преломления:\n",
    "$$\t\n",
    "\t\\begin{equation}\n",
    "\t\tn = \\frac{\\lambda}{\\lambda'} = \\sqrt{1 - \\frac{U}{E}}\n",
    "\t\\end{equation}\n",
    "$$    "
   ]
  },
  {
   "cell_type": "markdown",
   "metadata": {
    "slideshow": {
     "slide_type": "subslide"
    }
   },
   "source": [
    "Решение задачи о рассеянии электрона на сферическом потенциале достаточно громоздко. Поэтому рассмотрим более простое одномерное приближение: электрон рассеивается на потенциальной яме конечной глубины. Уравнение Шрёдингера в этом случае имеет вид:\n",
    "$$\n",
    "\t\\begin{equation}\n",
    "\t\t\\psi'' + k^2\\psi = 0 \\qquad k^2 = \\begin{cases}\n",
    "\t\t k_1^2  = \\frac{2mE}{\\hbar^2} \\\\\n",
    "\t\t k_2 = \\frac{2m(E+U_0)}{\\hbar^2}\n",
    "\t\t\\end{cases}\n",
    "\t\\end{equation}\n",
    "$$\t\n",
    "Коэффициент прохождения равен отношению квадратов амплитуд прошедшей и падающей волн и определяется выражением:\n",
    "$$\n",
    "    \\begin{equation}\n",
    "\t\tD = \\frac{16k_1^2k_2^2}{16k_1^2k_2^2 + 4(k_1^2-k_2^2)^2\\sin^2(k_2l)}\n",
    "\t\\end{equation}\n",
    "$$    "
   ]
  },
  {
   "cell_type": "markdown",
   "metadata": {
    "slideshow": {
     "slide_type": "subslide"
    }
   },
   "source": [
    "Видно, что коэффициент прохождения частицы над ямой, в зависимости от её энергии, имеет вид чередующихся максимумов и минимумов. В частности, если $k_2l = \\pi$, то коэффициент прохождения равен 1, т.е. отраженная волна отсутствует, и электрон беспрепятственно проходит через атом. Этот эффект является квантовым аналогом просветления оптики. Таким образом, коэффициент прохождения электронов максимален при условии:\n",
    "$$\n",
    "\t\\begin{equation}\n",
    "\t\tk_2l = \\sqrt{\\frac{2m(E+U_0)}{\\hbar^2}}l = \\pi n\n",
    "\t\\end{equation}\n",
    "$$    "
   ]
  },
  {
   "cell_type": "markdown",
   "metadata": {
    "slideshow": {
     "slide_type": "subslide"
    }
   },
   "source": [
    "Прошедшая волна 1 усилится волной 2, если геометрическая разность хода между ними $\\Delta = 2l = \\lambda'$, что соответствует условию первого интерференционного максимума, т.е.\n",
    "$$\n",
    "\\begin{equation}\n",
    "\t\t2l = \\frac{h}{\\sqrt{2m(E_1 + U_0)}}\n",
    "\t\\end{equation}\n",
    "$$"
   ]
  },
  {
   "cell_type": "markdown",
   "metadata": {
    "slideshow": {
     "slide_type": "subslide"
    }
   },
   "source": [
    "C другой стороны, прошедшая волна ослабится, если $2l = \\frac{3}{2}\\lambda'$, т.е.\n",
    "\n",
    "$$\n",
    "\\begin{equation}\n",
    "\t\t2l = \\frac{3}{2}\\frac{h}{\\sqrt{2m(E_2+U_0)}}\n",
    "\t\\end{equation}\n",
    "$$    \n",
    "Решая эти уравнения совместно можно исключить $U_0$ и найти эффективный размер атома $l$:\n",
    "$$\n",
    "\t\t\\begin{equation}\n",
    "\t\t\tl = \\frac{h\\sqrt{5}}{\\sqrt{2m(E_2-E_1)}}\n",
    "\t\t\\end{equation}\n",
    "$$"
   ]
  },
  {
   "cell_type": "markdown",
   "metadata": {
    "slideshow": {
     "slide_type": "subslide"
    }
   },
   "source": [
    "Теперь рассмотрим ВАХ тиратрона. Она имеет вид:\n",
    "$$\n",
    "\tI_a = I_0e^{-C\\omega(V)}, C = Ln_a\\Delta_a\n",
    "$$\n",
    "где $I_0 = eN_0$ - ток катода, $I_a = eN_a$ - анодный ток, $\\Delta_a$ - площадь поперечного сечения атома, $n_a$ - концентрация атомов газа в лампе, $L$ - расстояние от катода до анода, $\\omega(V)$ - вероятность рассеяния электрона на атоме как функция от ускоряющего напряжения. По измеренной ВАХ тиратрона можно определить зависимость вероятности рассеяния электрона от его энергии из соотношения:\n",
    "$$\n",
    "\t\\begin{equation}\n",
    "\t\t\\omega(V) = -\\frac{1}{C}\\ln\\frac{I_a}{I_0}\n",
    "\t\\end{equation}\n",
    "$$"
   ]
  },
  {
   "cell_type": "markdown",
   "metadata": {},
   "source": [
    "###### Лирическое отступление\n",
    "\n",
    "По сути, эффект Рамзауэра аналогичен пятну Пуассона, наблюдаемому в оптике. В этом случае роль \"экрана\" для электрона играет атом газа. Если длина волны _де Бройля_ электрона сравнима с размером атома, то в результате дифракции электрона за атомом возникает максимум электронной волны — электрон «огибает» атом без рассеяния на нём."
   ]
  },
  {
   "cell_type": "markdown",
   "metadata": {
    "slideshow": {
     "slide_type": "subslide"
    }
   },
   "source": [
    "###### Схематическое изображение тиратрона и его конструкция\n",
    "![alt text](5.png \"Схематическое изображение тиратрона и его конструкция\")\n",
    "\n",
    "1. Сетки\n",
    "2. Сетки\n",
    "3. Сетки\n",
    "4. Внешний металлический цилиндр\n",
    "5. Катод\n",
    "6. Анод\n",
    "7. Накаливаемая спираль"
   ]
  },
  {
   "cell_type": "markdown",
   "metadata": {
    "slideshow": {
     "slide_type": "subslide"
    }
   },
   "source": [
    "###### Качественный вид вероятности рассеяния электрона атомом инертного газа и ВАХ тиратрона при классическом и квантовом рассмотрении.\n",
    "![alt text](6.png \"Вид вероятности рассеяния электрона\")"
   ]
  },
  {
   "cell_type": "markdown",
   "metadata": {
    "slideshow": {
     "slide_type": "slide"
    }
   },
   "source": [
    "## Обработка результатов"
   ]
  },
  {
   "cell_type": "code",
   "execution_count": 2,
   "metadata": {
    "slideshow": {
     "slide_type": "skip"
    }
   },
   "outputs": [],
   "source": [
    "import pandas as pd\n",
    "import numpy as np"
   ]
  },
  {
   "cell_type": "markdown",
   "metadata": {
    "slideshow": {
     "slide_type": "skip"
    }
   },
   "source": [
    "Запишем значения некоторых констант и параметров, при которых производились измерения."
   ]
  },
  {
   "cell_type": "code",
   "execution_count": 3,
   "metadata": {
    "slideshow": {
     "slide_type": "skip"
    }
   },
   "outputs": [],
   "source": [
    "v_del = 2\n",
    "i_del = 0.02\n",
    "v_err = 0.01\n",
    "#h = 4135667662*(10**(-15)) #эВ*с\n",
    "h = 6.626070040*(10**(-34))\n",
    "#e = 1 #\n",
    "e = 1.6021766 *(10**(-19))\n",
    "m = 9.1093856*(10**-31) #кг\n",
    "v_nakal = [2.69, 2.5]\n",
    "\n",
    "\n",
    "v_err = v_del*v_err\n",
    "v_max_err = v_err\n",
    "v_min_err = v_err\n",
    "\n",
    "data1 = pd.read_csv('data1.csv', sep=';', names=['V', 'I'], skip_blank_lines=True)\n",
    "data2 = pd.read_csv('data2.csv', sep=';', names=['V', 'I'], skip_blank_lines=True)\n"
   ]
  },
  {
   "cell_type": "markdown",
   "metadata": {
    "slideshow": {
     "slide_type": "subslide"
    }
   },
   "source": [
    "#### Измерения в динамическом режиме\n",
    "\n"
   ]
  },
  {
   "cell_type": "markdown",
   "metadata": {
    "slideshow": {
     "slide_type": "fragment"
    }
   },
   "source": [
    "###### Картина на осциллографе при работе в динамическом режиме\n",
    "![alt text](1.jpg \"ВАХ в динамическом режиме\")"
   ]
  },
  {
   "cell_type": "code",
   "execution_count": 4,
   "metadata": {
    "slideshow": {
     "slide_type": "skip"
    }
   },
   "outputs": [],
   "source": [
    "v_max = [0.8, 0.9]\n",
    "v_min = [3.5, 3.4] \n",
    "v_break = [5.6, 5.4]\n",
    "v_min = map(lambda x: v_del*x,v_min)\n",
    "v_max = map(lambda x: v_del*x, v_max)\n",
    "v_break = map(lambda x: v_del*x,v_break)\n",
    "\n",
    "\n"
   ]
  },
  {
   "cell_type": "code",
   "execution_count": 5,
   "metadata": {
    "slideshow": {
     "slide_type": "subslide"
    }
   },
   "outputs": [
    {
     "data": {
      "text/html": [
       "<div>\n",
       "<style scoped>\n",
       "    .dataframe tbody tr th:only-of-type {\n",
       "        vertical-align: middle;\n",
       "    }\n",
       "\n",
       "    .dataframe tbody tr th {\n",
       "        vertical-align: top;\n",
       "    }\n",
       "\n",
       "    .dataframe thead th {\n",
       "        text-align: right;\n",
       "    }\n",
       "</style>\n",
       "<table border=\"1\" class=\"dataframe\">\n",
       "  <thead>\n",
       "    <tr style=\"text-align: right;\">\n",
       "      <th></th>\n",
       "      <th>$V_n = 2.69$ В</th>\n",
       "      <th>$V_n = 2.5$ В</th>\n",
       "    </tr>\n",
       "  </thead>\n",
       "  <tbody>\n",
       "    <tr>\n",
       "      <th>Минимум, В</th>\n",
       "      <td>7.0</td>\n",
       "      <td>6.8</td>\n",
       "    </tr>\n",
       "    <tr>\n",
       "      <th>Максимум, В</th>\n",
       "      <td>1.6</td>\n",
       "      <td>1.8</td>\n",
       "    </tr>\n",
       "    <tr>\n",
       "      <th>Напряжение пробоя, В</th>\n",
       "      <td>11.2</td>\n",
       "      <td>10.8</td>\n",
       "    </tr>\n",
       "  </tbody>\n",
       "</table>\n",
       "</div>"
      ],
      "text/plain": [
       "                      $V_n = 2.69$ В  $V_n = 2.5$ В\n",
       "Минимум, В                       7.0            6.8\n",
       "Максимум, В                      1.6            1.8\n",
       "Напряжение пробоя, В            11.2           10.8"
      ]
     },
     "execution_count": 5,
     "metadata": {},
     "output_type": "execute_result"
    }
   ],
   "source": [
    "pd.DataFrame(data = [v_min, v_max, v_break], index = [\"Минимум, В\", \"Максимум, В\", \"Напряжение пробоя, В\"], columns=['$V_n = 2.69$ В', \"$V_n = 2.5$ В\"])\n",
    "\n"
   ]
  },
  {
   "cell_type": "markdown",
   "metadata": {
    "slideshow": {
     "slide_type": "fragment"
    }
   },
   "source": [
    "По напряжению пробоя определяем, что тиратрон по большей части наполнен _ксеноном_ (табличное - 12,1 В)."
   ]
  },
  {
   "cell_type": "code",
   "execution_count": 6,
   "metadata": {
    "slideshow": {
     "slide_type": "skip"
    }
   },
   "outputs": [],
   "source": [
    "def calc_shell_size(v_min, v_max):\n",
    "    return h*(5.**0.5) /((2.*m*(e*v_min - e*v_max))**0.5)\n",
    "def calc_potential_depth(v_min, v_max):\n",
    "    return (4.*e*v_min - 9.*e*v_max)/5\n",
    "def calc_shell_size_err(v_min, v_max):\n",
    "    return h*(5.**0.5)*(v_min_err + v_max_err)/(2*((2.*m*e)**0.5)*((v_min - v_max)**(1.5)))\n",
    "def calc_potential_depth_err():  \n",
    "    return (4.*e*v_min_err + 9.*e*v_max_err)/5"
   ]
  },
  {
   "cell_type": "code",
   "execution_count": 7,
   "metadata": {
    "slideshow": {
     "slide_type": "skip"
    }
   },
   "outputs": [],
   "source": [
    "size = map(calc_shell_size, v_min, v_max)\n",
    "size = size + (map(calc_shell_size_err, v_min, v_max))\n",
    "size = map(lambda x: x*(10**10), size)\n",
    "depth = map(calc_potential_depth, v_min, v_max)\n",
    "depth.append(calc_potential_depth_err())\n",
    "depth.append(calc_potential_depth_err())\n",
    "depth = map(lambda x: x/e, depth)\n"
   ]
  },
  {
   "cell_type": "markdown",
   "metadata": {
    "slideshow": {
     "slide_type": "subslide"
    }
   },
   "source": [
    "Рассчитаем размер электронной оболочки и эффективную глубину потенциальной ямы по значениям минимума и максимума, полученным по картине ВАХ в динамическом режиме."
   ]
  },
  {
   "cell_type": "code",
   "execution_count": 8,
   "metadata": {
    "slideshow": {
     "slide_type": "fragment"
    }
   },
   "outputs": [
    {
     "data": {
      "text/html": [
       "<div>\n",
       "<style scoped>\n",
       "    .dataframe tbody tr th:only-of-type {\n",
       "        vertical-align: middle;\n",
       "    }\n",
       "\n",
       "    .dataframe tbody tr th {\n",
       "        vertical-align: top;\n",
       "    }\n",
       "\n",
       "    .dataframe thead th {\n",
       "        text-align: right;\n",
       "    }\n",
       "</style>\n",
       "<table border=\"1\" class=\"dataframe\">\n",
       "  <thead>\n",
       "    <tr style=\"text-align: right;\">\n",
       "      <th></th>\n",
       "      <th>$V_n = 2.69$ В</th>\n",
       "      <th>$V_n = 2.5$ В</th>\n",
       "      <th>$\\sigma_1$</th>\n",
       "      <th>$\\sigma_2$</th>\n",
       "    </tr>\n",
       "  </thead>\n",
       "  <tbody>\n",
       "    <tr>\n",
       "      <th>Размер эл. оболочки, Å</th>\n",
       "      <td>11.801288</td>\n",
       "      <td>12.264258</td>\n",
       "      <td>0.043708</td>\n",
       "      <td>0.049057</td>\n",
       "    </tr>\n",
       "    <tr>\n",
       "      <th>Эфф. глубина пот. ямы, эВ</th>\n",
       "      <td>2.720000</td>\n",
       "      <td>2.200000</td>\n",
       "      <td>0.052000</td>\n",
       "      <td>0.052000</td>\n",
       "    </tr>\n",
       "  </tbody>\n",
       "</table>\n",
       "</div>"
      ],
      "text/plain": [
       "                           $V_n = 2.69$ В  $V_n = 2.5$ В  $\\sigma_1$  \\\n",
       "Размер эл. оболочки, Å          11.801288      12.264258    0.043708   \n",
       "Эфф. глубина пот. ямы, эВ        2.720000       2.200000    0.052000   \n",
       "\n",
       "                           $\\sigma_2$  \n",
       "Размер эл. оболочки, Å       0.049057  \n",
       "Эфф. глубина пот. ямы, эВ    0.052000  "
      ]
     },
     "execution_count": 8,
     "metadata": {},
     "output_type": "execute_result"
    }
   ],
   "source": [
    "pd.DataFrame(data = [size, depth], index = [\"Размер эл. оболочки, Å\", \"Эфф. глубина пот. ямы, эВ\"], columns = ['$V_n = 2.69$ В', \"$V_n = 2.5$ В\", '$\\sigma_1$', '$\\sigma_2$'])"
   ]
  },
  {
   "cell_type": "code",
   "execution_count": 9,
   "metadata": {},
   "outputs": [],
   "source": [
    "v_min = [data1['V'][data1['I'].idxmin()], data2['V'][data2['I'].idxmin()]]\n",
    "v_max = [data1['V'][data1['I'].idxmax()], data2['V'][data2['I'].idxmax()]]"
   ]
  },
  {
   "cell_type": "code",
   "execution_count": 10,
   "metadata": {
    "slideshow": {
     "slide_type": "skip"
    }
   },
   "outputs": [],
   "source": [
    "size = map(calc_shell_size, v_min, v_max)\n",
    "size = size + (map(calc_shell_size_err, v_min, v_max))\n",
    "size = map(lambda x: x*(10**10), size)\n",
    "depth = map(calc_potential_depth, v_min, v_max)\n",
    "depth.append(calc_potential_depth_err())\n",
    "depth.append(calc_potential_depth_err())\n",
    "depth = map(lambda x: x/e, depth)\n"
   ]
  },
  {
   "cell_type": "markdown",
   "metadata": {
    "slideshow": {
     "slide_type": "subslide"
    }
   },
   "source": [
    "Рассчитаем размер электронной оболочки и эффективную глубину потенциальной ямы по значениям минимума и максимума, полученным по измерениям ВАХ в статическом режиме."
   ]
  },
  {
   "cell_type": "code",
   "execution_count": 11,
   "metadata": {
    "slideshow": {
     "slide_type": "fragment"
    }
   },
   "outputs": [
    {
     "data": {
      "text/html": [
       "<div>\n",
       "<style scoped>\n",
       "    .dataframe tbody tr th:only-of-type {\n",
       "        vertical-align: middle;\n",
       "    }\n",
       "\n",
       "    .dataframe tbody tr th {\n",
       "        vertical-align: top;\n",
       "    }\n",
       "\n",
       "    .dataframe thead th {\n",
       "        text-align: right;\n",
       "    }\n",
       "</style>\n",
       "<table border=\"1\" class=\"dataframe\">\n",
       "  <thead>\n",
       "    <tr style=\"text-align: right;\">\n",
       "      <th></th>\n",
       "      <th>$V_n = 2.69$ В</th>\n",
       "      <th>$V_n = 2.49$ В</th>\n",
       "      <th>$\\sigma_1$</th>\n",
       "      <th>$\\sigma_2$</th>\n",
       "    </tr>\n",
       "  </thead>\n",
       "  <tbody>\n",
       "    <tr>\n",
       "      <th>Размер эл. оболочки, Å</th>\n",
       "      <td>11.052919</td>\n",
       "      <td>11.834207</td>\n",
       "      <td>0.035909</td>\n",
       "      <td>0.044075</td>\n",
       "    </tr>\n",
       "    <tr>\n",
       "      <th>Эфф. глубина пот. ямы, эВ</th>\n",
       "      <td>3.309800</td>\n",
       "      <td>2.766000</td>\n",
       "      <td>0.052000</td>\n",
       "      <td>0.052000</td>\n",
       "    </tr>\n",
       "  </tbody>\n",
       "</table>\n",
       "</div>"
      ],
      "text/plain": [
       "                           $V_n = 2.69$ В  $V_n = 2.49$ В  $\\sigma_1$  \\\n",
       "Размер эл. оболочки, Å          11.052919       11.834207    0.035909   \n",
       "Эфф. глубина пот. ямы, эВ        3.309800        2.766000    0.052000   \n",
       "\n",
       "                           $\\sigma_2$  \n",
       "Размер эл. оболочки, Å       0.044075  \n",
       "Эфф. глубина пот. ямы, эВ    0.052000  "
      ]
     },
     "execution_count": 11,
     "metadata": {},
     "output_type": "execute_result"
    }
   ],
   "source": [
    "pd.DataFrame(data = [size, depth], index = [\"Размер эл. оболочки, Å\", \"Эфф. глубина пот. ямы, эВ\"], columns = ['$V_n = 2.69$ В', \"$V_n = 2.49$ В\", '$\\sigma_1$', '$\\sigma_2$'])"
   ]
  },
  {
   "cell_type": "markdown",
   "metadata": {},
   "source": [
    "Сравнив с радиусом электронной оболочки ксенона (10.8 Å), получили, что значения экспериментальное и табличное довольно близки."
   ]
  },
  {
   "cell_type": "markdown",
   "metadata": {
    "slideshow": {
     "slide_type": "subslide"
    }
   },
   "source": [
    "По формуле \n",
    "$$\n",
    "\\begin{equation}\n",
    "    k_2l = \\sqrt{\\dfrac{2m(E_n + U_0)}{\\hbar^2}}l = n\\pi \\qquad n = \\overline{1,3}\n",
    "\\end{equation}\n",
    "$$\n",
    "оценим положение следующих максимумов."
   ]
  },
  {
   "cell_type": "code",
   "execution_count": 12,
   "metadata": {
    "slideshow": {
     "slide_type": "skip"
    }
   },
   "outputs": [],
   "source": [
    "def calc_next_max(n, v):\n",
    "    U_0 = 2.5\n",
    "    return n**2 * (e*v + U_0) - U_0\n",
    "\n",
    "def calc_next_max_err(n):\n",
    "    return v_max_err* n **2"
   ]
  },
  {
   "cell_type": "code",
   "execution_count": 13,
   "metadata": {
    "slideshow": {
     "slide_type": "skip"
    }
   },
   "outputs": [],
   "source": [
    "predictions = map(calc_next_max, [2,3], 2*[v_max[0]])\n",
    "pred_err = map(calc_next_max_err, [2,3])\n",
    "\n"
   ]
  },
  {
   "cell_type": "code",
   "execution_count": 14,
   "metadata": {
    "slideshow": {
     "slide_type": "fragment"
    }
   },
   "outputs": [
    {
     "name": "stdout",
     "output_type": "stream",
     "text": [
      "Значения напряжений, при которых должны появляться максимумы в коэффициенте прохождения электронов, равны 7.5 ± 0.08 В для n = 2 и 20.0 ± 0.18 В для n = 3\n"
     ]
    }
   ],
   "source": [
    "print u'Значения напряжений, при которых должны появляться максимумы в коэффициенте прохождения электронов, равны {0} ± {1} В для n = {2} и {3} ± {4} В для n = {5}'.format(predictions[0], pred_err[0], 2, predictions[1], pred_err[1], 3)  "
   ]
  },
  {
   "cell_type": "markdown",
   "metadata": {
    "slideshow": {
     "slide_type": "subslide"
    }
   },
   "source": [
    "Используя формулу для вероятности из теоретической справки, построим графики зависимости вероятности и сравним их с предложенными в учебнике."
   ]
  },
  {
   "cell_type": "code",
   "execution_count": 37,
   "metadata": {},
   "outputs": [],
   "source": [
    "def calc_probability(I):\n",
    "    C = 2\n",
    "    I_0 = 20\n",
    "    return 1*np.log(I/I_0)/C\n",
    "data1['w'] = map(calc_probability, data1['I'])\n",
    "data2['w'] = map(calc_probability, data2['I'])\n",
    "\n",
    "data1.sort_values(by = 'V', inplace = True)\n",
    "data2.sort_values(by = 'V', inplace = True)\n"
   ]
  },
  {
   "cell_type": "code",
   "execution_count": 38,
   "metadata": {
    "slideshow": {
     "slide_type": "subslide"
    }
   },
   "outputs": [
    {
     "data": {
      "image/png": "[encoded data removed]",
      "text/plain": [
       "<matplotlib.figure.Figure at 0x10d62ce10>"
      ]
     },
     "metadata": {},
     "output_type": "display_data"
    }
   ],
   "source": [
    "I_err = 1/120\n",
    "V_err = 0.01\n",
    "import matplotlib.pyplot as plt\n",
    "fig = plt.figure(figsize =(10,10))\n",
    "plt.title(u\"Зависимость сигнала с клемм от напряжения (U = {} В)\".format(v_nakal[1]))\n",
    "plt.xlabel(u'V, В', fontsize = 20)\n",
    "plt.ylabel(u'$I, nA$', fontsize = 20)\n",
    "plt.plot(data2['V'], data2['I'], marker='', color = 'black', linestyle='-')\n",
    "plt.errorbar(data2['V'], data2['I'], xerr=V_err, yerr=I_err,color = 'red', fmt='s', linestyle = '')\n",
    "plt.show()\n"
   ]
  },
  {
   "cell_type": "code",
   "execution_count": 42,
   "metadata": {
    "slideshow": {
     "slide_type": "subslide"
    }
   },
   "outputs": [
    {
     "data": {
      "image/png": "[encoded data removed]",
      "text/plain": [
       "<matplotlib.figure.Figure at 0x1112178d0>"
      ]
     },
     "metadata": {},
     "output_type": "display_data"
    },
    {
     "data": {
      "image/png": "[encoded data removed]",
      "text/plain": [
       "<matplotlib.figure.Figure at 0x10e2ecfd0>"
      ]
     },
     "metadata": {},
     "output_type": "display_data"
    }
   ],
   "source": [
    "I_err = 0.02\n",
    "V_err = 0.01\n",
    "import matplotlib.pyplot as plt\n",
    "\n",
    "fig = plt.figure(figsize = (10,10))\n",
    "fig.lines\n",
    "plt.title(u\"Зависимость сигнала с клемм от напряжения (U = {} В)\".format(v_nakal[0]))\n",
    "plt.xlabel(u'V, В', fontsize = 20)\n",
    "plt.ylabel(u'$I, nА$', fontsize = 20)\n",
    "plt.plot(data1['V'], data1['I'], marker='', color = 'black', linestyle='-')\n",
    "plt.errorbar(data1['V'], data1['I'], xerr=V_err, yerr=I_err,color = 'red', fmt='s', linestyle = '')\n",
    "plt.show()"
   ]
  },
  {
   "cell_type": "code",
   "execution_count": 40,
   "metadata": {
    "slideshow": {
     "slide_type": "subslide"
    }
   },
   "outputs": [
    {
     "data": {
      "image/png": "[encoded data removed]",
      "text/plain": [
       "<matplotlib.figure.Figure at 0x110e495d0>"
      ]
     },
     "metadata": {},
     "output_type": "display_data"
    }
   ],
   "source": [
    "I_err = 1/120\n",
    "V_err = 0.01\n",
    "import matplotlib.pyplot as plt\n",
    "fig = plt.figure(figsize = (10,10))\n",
    "plt.title(u\"Зависимость вероятности рассеяния электронов от напряжения (U = {} В)\".format(v_nakal[1]))\n",
    "plt.xlabel(u'V, В', fontsize = 20)\n",
    "plt.ylabel(u'$\\omega(V)$', fontsize = 20)\n",
    "plt.plot(data2['V'], data2['w'], marker='', color = 'black', linestyle='-')\n",
    "plt.errorbar(data2['V'], data2['w'], xerr=V_err, yerr=I_err,color = 'red', fmt='s', linestyle = '')\n",
    "\n",
    "plt.show()"
   ]
  },
  {
   "cell_type": "code",
   "execution_count": 41,
   "metadata": {
    "slideshow": {
     "slide_type": "subslide"
    }
   },
   "outputs": [
    {
     "data": {
      "image/png": "[encoded data removed]",
      "text/plain": [
       "<matplotlib.figure.Figure at 0x1110562d0>"
      ]
     },
     "metadata": {},
     "output_type": "display_data"
    }
   ],
   "source": [
    "fig = plt.figure(figsize = (10,10))\n",
    "plt.title(u\"Зависимость вероятности рассеяния электронов от напряжения (U = {} В)\".format(v_nakal[0]))\n",
    "plt.xlabel(u'V, В', fontsize = 20)\n",
    "plt.ylabel(u'$\\omega(V)$', fontsize = 20)\n",
    "plt.plot(data1['V'], data1['w'], marker='', color = 'black', linestyle='-')\n",
    "plt.errorbar(data1['V'], data1['w'], xerr=V_err, yerr=I_err,color = 'red', fmt='s', linestyle = '')\n",
    "plt.show()"
   ]
  },
  {
   "cell_type": "markdown",
   "metadata": {
    "slideshow": {
     "slide_type": "slide"
    }
   },
   "source": [
    "## Вывод\n",
    "\n",
    "В проделанной работе было изучено явление рассеяния электронов на атомах ксенона. Экспериментальные данные подтверждают гипотезу о волновых свойствах электрона. Были оценены размеры электронной оболочки ксенона и глубина потенциальной ямы атома. Кроме того, было исследовано влияние магнитного поля на ВАХ тиратрона. При поднесении к лампочке осциллограма резко изменялась, что не могло происходить при коаксиальном устройстве лампочке. На основании этого сделали вывод, что катод и анод - две параллельные пластины."
   ]
  },
  {
   "cell_type": "raw",
   "metadata": {},
   "source": []
  },
  {
   "cell_type": "code",
   "execution_count": null,
   "metadata": {},
   "outputs": [],
   "source": []
  }
 ],
 "metadata": {
  "celltoolbar": "Slideshow",
  "kernelspec": {
   "display_name": "Python 2",
   "language": "python",
   "name": "python2"
  },
  "language_info": {
   "codemirror_mode": {
    "name": "ipython",
    "version": 2
   },
   "file_extension": ".py",
   "mimetype": "text/x-python",
   "name": "python",
   "nbconvert_exporter": "python",
   "pygments_lexer": "ipython2",
   "version": "2.7.14"
  }
 },
 "nbformat": 4,
 "nbformat_minor": 2
}
