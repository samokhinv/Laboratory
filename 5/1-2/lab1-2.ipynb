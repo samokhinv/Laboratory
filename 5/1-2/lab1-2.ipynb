{
 "cells": [
  {
   "cell_type": "code",
   "execution_count": 117,
   "metadata": {},
   "outputs": [],
   "source": [
    "greek_alphabet = {\n",
    "    u'\\u0391': 'Alpha',\n",
    "    u'\\u0392': 'Beta',\n",
    "    u'\\u0393': 'Gamma',\n",
    "    u'\\u0394': 'Delta',\n",
    "    u'\\u0395': 'Epsilon',\n",
    "    u'\\u0396': 'Zeta',\n",
    "    u'\\u0397': 'Eta',\n",
    "    u'\\u0398': 'Theta',\n",
    "    u'\\u0399': 'Iota',\n",
    "    u'\\u039A': 'Kappa',\n",
    "    u'\\u039B': 'Lamda',\n",
    "    u'\\u039C': 'Mu',\n",
    "    u'\\u039D': 'Nu',\n",
    "    u'\\u039E': 'Xi',\n",
    "    u'\\u039F': 'Omicron',\n",
    "    u'\\u03A0': 'Pi',\n",
    "    u'\\u03A1': 'Rho',\n",
    "    u'\\u03A3': 'Sigma',\n",
    "    u'\\u03A4': 'Tau',\n",
    "    u'\\u03A5': 'Upsilon',\n",
    "    u'\\u03A6': 'Phi',\n",
    "    u'\\u03A7': 'Chi',\n",
    "    u'\\u03A8': 'Psi',\n",
    "    u'\\u03A9': 'Omega',\n",
    "    u'\\u03B1': 'alpha',\n",
    "    u'\\u03B2': 'beta',\n",
    "    u'\\u03B3': 'gamma',\n",
    "    u'\\u03B4': 'delta',\n",
    "    u'\\u03B5': 'epsilon',\n",
    "    u'\\u03B6': 'zeta',\n",
    "    u'\\u03B7': 'eta',\n",
    "    u'\\u03B8': 'theta',\n",
    "    u'\\u03B9': 'iota',\n",
    "    u'\\u03BA': 'kappa',\n",
    "    u'\\u03BB': 'lamda',\n",
    "    u'\\u03BC': 'mu',\n",
    "    u'\\u03BD': 'nu',\n",
    "    u'\\u03BE': 'xi',\n",
    "    u'\\u03BF': 'omicron',\n",
    "    u'\\u03C0': 'pi',\n",
    "    u'\\u03C1': 'rho',\n",
    "    u'\\u03C3': 'sigma',\n",
    "    u'\\u03C4': 'tau',\n",
    "    u'\\u03C5': 'upsilon',\n",
    "    u'\\u03C6': 'phi',\n",
    "    u'\\u03C7': 'chi',\n",
    "    u'\\u03C8': 'psi',\n",
    "    u'\\u03C9': 'omega',\n",
    "}\n",
    "ga = {v: k for k, v in greek_alphabet.iteritems()}"
   ]
  },
  {
   "cell_type": "code",
   "execution_count": 85,
   "metadata": {},
   "outputs": [],
   "source": [
    "import numpy as np\n",
    "import pandas as pd\n",
    "\n",
    "data = pd.read_csv('data.csv', sep=';', names=['theta', 'N'], skip_blank_lines=True)\n",
    "N0 = float(data[data['theta'] == 0]['N'])\n",
    "data['cos'] = map(lambda x: 1- np.cos(np.pi*float(x)/(180)), data['theta'])\n",
    "data['y'] = map(lambda x: 1/float(x), data['N'])\n",
    "data.sort_values(by='cos', inplace=True)\n",
    "\n",
    "Nerr = 4. #погрешность в вычислении номера канала\n",
    "data['yerr'] = map(lambda x: np.sqrt(Nerr**2/x**4 + Nerr**2/N0**4), data['N'])\n"
   ]
  },
  {
   "cell_type": "code",
   "execution_count": 81,
   "metadata": {},
   "outputs": [
    {
     "data": {
      "text/html": [
       "<div>\n",
       "<style scoped>\n",
       "    .dataframe tbody tr th:only-of-type {\n",
       "        vertical-align: middle;\n",
       "    }\n",
       "\n",
       "    .dataframe tbody tr th {\n",
       "        vertical-align: top;\n",
       "    }\n",
       "\n",
       "    .dataframe thead th {\n",
       "        text-align: right;\n",
       "    }\n",
       "</style>\n",
       "<table border=\"1\" class=\"dataframe\">\n",
       "  <thead>\n",
       "    <tr style=\"text-align: right;\">\n",
       "      <th></th>\n",
       "      <th>theta</th>\n",
       "      <th>N</th>\n",
       "      <th>cos</th>\n",
       "      <th>y</th>\n",
       "      <th>yerr</th>\n",
       "    </tr>\n",
       "  </thead>\n",
       "  <tbody>\n",
       "    <tr>\n",
       "      <th>0</th>\n",
       "      <td>0</td>\n",
       "      <td>835</td>\n",
       "      <td>0.000000</td>\n",
       "      <td>0.001198</td>\n",
       "      <td>0.000012</td>\n",
       "    </tr>\n",
       "    <tr>\n",
       "      <th>1</th>\n",
       "      <td>10</td>\n",
       "      <td>812</td>\n",
       "      <td>0.015192</td>\n",
       "      <td>0.001232</td>\n",
       "      <td>0.000013</td>\n",
       "    </tr>\n",
       "    <tr>\n",
       "      <th>2</th>\n",
       "      <td>20</td>\n",
       "      <td>744</td>\n",
       "      <td>0.060307</td>\n",
       "      <td>0.001344</td>\n",
       "      <td>0.000014</td>\n",
       "    </tr>\n",
       "    <tr>\n",
       "      <th>3</th>\n",
       "      <td>30</td>\n",
       "      <td>701</td>\n",
       "      <td>0.133975</td>\n",
       "      <td>0.001427</td>\n",
       "      <td>0.000015</td>\n",
       "    </tr>\n",
       "    <tr>\n",
       "      <th>4</th>\n",
       "      <td>40</td>\n",
       "      <td>650</td>\n",
       "      <td>0.233956</td>\n",
       "      <td>0.001538</td>\n",
       "      <td>0.000017</td>\n",
       "    </tr>\n",
       "    <tr>\n",
       "      <th>5</th>\n",
       "      <td>50</td>\n",
       "      <td>574</td>\n",
       "      <td>0.357212</td>\n",
       "      <td>0.001742</td>\n",
       "      <td>0.000020</td>\n",
       "    </tr>\n",
       "    <tr>\n",
       "      <th>6</th>\n",
       "      <td>60</td>\n",
       "      <td>500</td>\n",
       "      <td>0.500000</td>\n",
       "      <td>0.002000</td>\n",
       "      <td>0.000025</td>\n",
       "    </tr>\n",
       "    <tr>\n",
       "      <th>7</th>\n",
       "      <td>70</td>\n",
       "      <td>482</td>\n",
       "      <td>0.657980</td>\n",
       "      <td>0.002075</td>\n",
       "      <td>0.000027</td>\n",
       "    </tr>\n",
       "    <tr>\n",
       "      <th>8</th>\n",
       "      <td>80</td>\n",
       "      <td>418</td>\n",
       "      <td>0.826352</td>\n",
       "      <td>0.002392</td>\n",
       "      <td>0.000035</td>\n",
       "    </tr>\n",
       "    <tr>\n",
       "      <th>9</th>\n",
       "      <td>90</td>\n",
       "      <td>368</td>\n",
       "      <td>1.000000</td>\n",
       "      <td>0.002717</td>\n",
       "      <td>0.000045</td>\n",
       "    </tr>\n",
       "    <tr>\n",
       "      <th>10</th>\n",
       "      <td>100</td>\n",
       "      <td>348</td>\n",
       "      <td>1.173648</td>\n",
       "      <td>0.002874</td>\n",
       "      <td>0.000050</td>\n",
       "    </tr>\n",
       "    <tr>\n",
       "      <th>11</th>\n",
       "      <td>110</td>\n",
       "      <td>311</td>\n",
       "      <td>1.342020</td>\n",
       "      <td>0.003215</td>\n",
       "      <td>0.000063</td>\n",
       "    </tr>\n",
       "    <tr>\n",
       "      <th>12</th>\n",
       "      <td>120</td>\n",
       "      <td>258</td>\n",
       "      <td>1.500000</td>\n",
       "      <td>0.003876</td>\n",
       "      <td>0.000091</td>\n",
       "    </tr>\n",
       "  </tbody>\n",
       "</table>\n",
       "</div>"
      ],
      "text/plain": [
       "    theta    N       cos         y      yerr\n",
       "0       0  835  0.000000  0.001198  0.000012\n",
       "1      10  812  0.015192  0.001232  0.000013\n",
       "2      20  744  0.060307  0.001344  0.000014\n",
       "3      30  701  0.133975  0.001427  0.000015\n",
       "4      40  650  0.233956  0.001538  0.000017\n",
       "5      50  574  0.357212  0.001742  0.000020\n",
       "6      60  500  0.500000  0.002000  0.000025\n",
       "7      70  482  0.657980  0.002075  0.000027\n",
       "8      80  418  0.826352  0.002392  0.000035\n",
       "9      90  368  1.000000  0.002717  0.000045\n",
       "10    100  348  1.173648  0.002874  0.000050\n",
       "11    110  311  1.342020  0.003215  0.000063\n",
       "12    120  258  1.500000  0.003876  0.000091"
      ]
     },
     "execution_count": 81,
     "metadata": {},
     "output_type": "execute_result"
    }
   ],
   "source": [
    "data"
   ]
  },
  {
   "cell_type": "code",
   "execution_count": 60,
   "metadata": {},
   "outputs": [],
   "source": [
    "import scipy.optimize as opt"
   ]
  },
  {
   "cell_type": "code",
   "execution_count": 103,
   "metadata": {},
   "outputs": [
    {
     "data": {
      "text/plain": [
       "(0.03137744638609758, 0.012875371104835142)"
      ]
     },
     "execution_count": 103,
     "metadata": {},
     "output_type": "execute_result"
    }
   ],
   "source": [
    "def func(x, a, b): #прямая которой будем приближать\n",
    "    return a*x + b\n",
    "\n",
    "popt, pcov = opt.curve_fit(func, data['cos'], data['y'], sigma=data['yerr'])\n",
    "perr = np.sqrt(np.diag(pcov))\n",
    "Aerr, berr = perr/popt\n",
    "Aerr, berr #относительные погрешности параметров"
   ]
  },
  {
   "cell_type": "code",
   "execution_count": 104,
   "metadata": {},
   "outputs": [
    {
     "data": {
      "image/png": "[encoded data removed]",
      "text/plain": [
       "<matplotlib.figure.Figure at 0x127bd8ad0>"
      ]
     },
     "metadata": {},
     "output_type": "display_data"
    }
   ],
   "source": [
    "import matplotlib.pyplot as plt\n",
    "fig = plt.figure(figsize =(15,10), )\n",
    "plt.title(u\"Зависимость номера канала от угла\")\n",
    "plt.ylabel('1/N($\\phi$)', fontsize = 20)\n",
    "plt.xlabel('$1-\\cos\\phi$', fontsize = 20)\n",
    "x = data['cos']\n",
    "plt.ylim(min(data['y'])-0.0001, max(data['y'])+0.0001)\n",
    "y = map(lambda x: 1/float(x), data['N'])\n",
    "plt.errorbar(x, y, yerr = data['yerr'], color = 'black', marker = '.', linestyle = 'None' )\n",
    "xline = np.linspace(0,1.5)\n",
    "yline = popt[0]*xline + popt[1]\n",
    "plt.plot(xline, yline, label='$1/N = ({0}\\pm{1})(1-\\cos\\phi) + ({2}\\pm{3})$'.format(round(popt[0],5), round(perr[0],5), round(popt[1],5), round(perr[1],5)))\n",
    "plt.grid(which='both')\n",
    "plt.legend(fontsize='xx-large')\n",
    "plt.show()\n",
    "fig.savefig('plot.pdf')"
   ]
  },
  {
   "cell_type": "code",
   "execution_count": 98,
   "metadata": {},
   "outputs": [],
   "source": [
    "N90 = 1/(sum(popt))\n",
    "N0 = 1/popt[1]\n",
    "N90, N0\n",
    "Ey = 661.7"
   ]
  },
  {
   "cell_type": "code",
   "execution_count": 124,
   "metadata": {},
   "outputs": [
    {
     "name": "stdout",
     "output_type": "stream",
     "text": [
      "Eэксп =  547.0\n"
     ]
    }
   ],
   "source": [
    "E = Ey*N90/(N0-N90)\n",
    "print u'Eэксп = ', round(E)"
   ]
  },
  {
   "cell_type": "code",
   "execution_count": 119,
   "metadata": {},
   "outputs": [
    {
     "name": "stdout",
     "output_type": "stream",
     "text": [
      "σN(90)/N(90)= 0.033916357746663364\n"
     ]
    }
   ],
   "source": [
    "N90err = np.sqrt(Aerr**2 + berr**2)\n",
    "print ga['sigma']+'N(90)/N(90) =', N90err"
   ]
  },
  {
   "cell_type": "code",
   "execution_count": 105,
   "metadata": {},
   "outputs": [],
   "source": [
    "Eerr = E*np.sqrt(N90err**2 + (N90err*N90 + berr*N0)**2/(N0-N90)**2)"
   ]
  },
  {
   "cell_type": "code",
   "execution_count": 125,
   "metadata": {},
   "outputs": [
    {
     "name": "stdout",
     "output_type": "stream",
     "text": [
      "σE = 34.0 σE/E = 0.0617 σN(90) = 12.63 σN(0) = 10.6\n"
     ]
    }
   ],
   "source": [
    "print ga['sigma']+'E =',round(Eerr), ga['sigma']+'E/E =', round(Eerr/E, 4), ga['sigma']+'N(90) =', round(N90err*N90,2), ga['sigma']+'N(0) =', round(berr*N0,2) #числа чтоб вписать в отчет при подсчете погрешности\n"
   ]
  },
  {
   "cell_type": "code",
   "execution_count": null,
   "metadata": {},
   "outputs": [],
   "source": []
  }
 ],
 "metadata": {
  "kernelspec": {
   "display_name": "Python 2",
   "language": "python",
   "name": "python2"
  },
  "language_info": {
   "codemirror_mode": {
    "name": "ipython",
    "version": 2
   },
   "file_extension": ".py",
   "mimetype": "text/x-python",
   "name": "python",
   "nbconvert_exporter": "python",
   "pygments_lexer": "ipython2",
   "version": "2.7.14"
  }
 },
 "nbformat": 4,
 "nbformat_minor": 2
}
